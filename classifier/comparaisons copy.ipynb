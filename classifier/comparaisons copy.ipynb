{
 "cells": [
  {
   "cell_type": "code",
   "execution_count": 1,
   "metadata": {},
   "outputs": [],
   "source": [
    "from sklearn.model_selection import train_test_split\n",
    "from sklearn.metrics import confusion_matrix, precision_score, recall_score, f1_score, accuracy_score\n",
    "from pycaret.classification import *\n",
    "import pandas as pd\n",
    "import warnings\n",
    "warnings.filterwarnings('ignore')"
   ]
  },
  {
   "cell_type": "code",
   "execution_count": 2,
   "metadata": {},
   "outputs": [],
   "source": [
    "# mlflow.set_experiment(\"Baseline-Models\") "
   ]
  },
  {
   "cell_type": "code",
   "execution_count": 3,
   "metadata": {},
   "outputs": [
    {
     "data": {
      "text/html": [
       "<div>\n",
       "<style scoped>\n",
       "    .dataframe tbody tr th:only-of-type {\n",
       "        vertical-align: middle;\n",
       "    }\n",
       "\n",
       "    .dataframe tbody tr th {\n",
       "        vertical-align: top;\n",
       "    }\n",
       "\n",
       "    .dataframe thead th {\n",
       "        text-align: right;\n",
       "    }\n",
       "</style>\n",
       "<table border=\"1\" class=\"dataframe\">\n",
       "  <thead>\n",
       "    <tr style=\"text-align: right;\">\n",
       "      <th></th>\n",
       "      <th>0</th>\n",
       "      <th>1</th>\n",
       "      <th>2</th>\n",
       "      <th>3</th>\n",
       "      <th>4</th>\n",
       "      <th>5</th>\n",
       "      <th>6</th>\n",
       "      <th>7</th>\n",
       "      <th>8</th>\n",
       "      <th>9</th>\n",
       "      <th>...</th>\n",
       "      <th>503</th>\n",
       "      <th>504</th>\n",
       "      <th>505</th>\n",
       "      <th>506</th>\n",
       "      <th>507</th>\n",
       "      <th>508</th>\n",
       "      <th>509</th>\n",
       "      <th>510</th>\n",
       "      <th>511</th>\n",
       "      <th>target</th>\n",
       "    </tr>\n",
       "  </thead>\n",
       "  <tbody>\n",
       "    <tr>\n",
       "      <th>450</th>\n",
       "      <td>0.038142</td>\n",
       "      <td>0.005211</td>\n",
       "      <td>-0.005983</td>\n",
       "      <td>-0.058670</td>\n",
       "      <td>0.089513</td>\n",
       "      <td>-0.014522</td>\n",
       "      <td>0.052800</td>\n",
       "      <td>-0.014017</td>\n",
       "      <td>-0.033721</td>\n",
       "      <td>-0.011794</td>\n",
       "      <td>...</td>\n",
       "      <td>-0.035820</td>\n",
       "      <td>-0.016927</td>\n",
       "      <td>0.037001</td>\n",
       "      <td>0.014554</td>\n",
       "      <td>-0.001237</td>\n",
       "      <td>-0.027081</td>\n",
       "      <td>-0.068729</td>\n",
       "      <td>0.023298</td>\n",
       "      <td>-0.018545</td>\n",
       "      <td>1</td>\n",
       "    </tr>\n",
       "    <tr>\n",
       "      <th>498</th>\n",
       "      <td>0.051143</td>\n",
       "      <td>0.065513</td>\n",
       "      <td>0.029455</td>\n",
       "      <td>-0.067144</td>\n",
       "      <td>0.047840</td>\n",
       "      <td>-0.036553</td>\n",
       "      <td>-0.001459</td>\n",
       "      <td>0.045836</td>\n",
       "      <td>0.009363</td>\n",
       "      <td>0.029734</td>\n",
       "      <td>...</td>\n",
       "      <td>0.022716</td>\n",
       "      <td>-0.051894</td>\n",
       "      <td>-0.092621</td>\n",
       "      <td>0.007400</td>\n",
       "      <td>-0.000421</td>\n",
       "      <td>0.010811</td>\n",
       "      <td>-0.018366</td>\n",
       "      <td>-0.021066</td>\n",
       "      <td>0.012098</td>\n",
       "      <td>1</td>\n",
       "    </tr>\n",
       "    <tr>\n",
       "      <th>298</th>\n",
       "      <td>0.013168</td>\n",
       "      <td>-0.001504</td>\n",
       "      <td>-0.094584</td>\n",
       "      <td>0.041153</td>\n",
       "      <td>0.066051</td>\n",
       "      <td>-0.056818</td>\n",
       "      <td>0.049747</td>\n",
       "      <td>0.130332</td>\n",
       "      <td>-0.011523</td>\n",
       "      <td>0.029514</td>\n",
       "      <td>...</td>\n",
       "      <td>-0.013877</td>\n",
       "      <td>0.002810</td>\n",
       "      <td>0.008651</td>\n",
       "      <td>0.039777</td>\n",
       "      <td>0.042756</td>\n",
       "      <td>-0.009049</td>\n",
       "      <td>0.022813</td>\n",
       "      <td>0.012335</td>\n",
       "      <td>-0.001681</td>\n",
       "      <td>1</td>\n",
       "    </tr>\n",
       "  </tbody>\n",
       "</table>\n",
       "<p>3 rows × 513 columns</p>\n",
       "</div>"
      ],
      "text/plain": [
       "            0         1         2         3         4         5         6  \\\n",
       "450  0.038142  0.005211 -0.005983 -0.058670  0.089513 -0.014522  0.052800   \n",
       "498  0.051143  0.065513  0.029455 -0.067144  0.047840 -0.036553 -0.001459   \n",
       "298  0.013168 -0.001504 -0.094584  0.041153  0.066051 -0.056818  0.049747   \n",
       "\n",
       "            7         8         9  ...       503       504       505  \\\n",
       "450 -0.014017 -0.033721 -0.011794  ... -0.035820 -0.016927  0.037001   \n",
       "498  0.045836  0.009363  0.029734  ...  0.022716 -0.051894 -0.092621   \n",
       "298  0.130332 -0.011523  0.029514  ... -0.013877  0.002810  0.008651   \n",
       "\n",
       "          506       507       508       509       510       511  target  \n",
       "450  0.014554 -0.001237 -0.027081 -0.068729  0.023298 -0.018545       1  \n",
       "498  0.007400 -0.000421  0.010811 -0.018366 -0.021066  0.012098       1  \n",
       "298  0.039777  0.042756 -0.009049  0.022813  0.012335 -0.001681       1  \n",
       "\n",
       "[3 rows x 513 columns]"
      ]
     },
     "execution_count": 3,
     "metadata": {},
     "output_type": "execute_result"
    }
   ],
   "source": [
    "df = pd.read_csv('celeb_embeddings.csv')\n",
    "df.sample(3)"
   ]
  },
  {
   "cell_type": "code",
   "execution_count": 4,
   "metadata": {},
   "outputs": [],
   "source": [
    "# Separate the features and the target\n",
    "X = df.drop('target', axis=1)\n",
    "y = df['target']\n",
    "\n",
    "# Split the data into training and testing sets\n",
    "X_train, X_test, y_train, y_test = train_test_split(X, y, test_size=0.1, random_state=42)"
   ]
  },
  {
   "cell_type": "code",
   "execution_count": 5,
   "metadata": {},
   "outputs": [],
   "source": [
    "def generate_model_metrics(y_true, y_pred):\n",
    "\n",
    "    accuracy = accuracy_score(y_true, y_pred)\n",
    "    precision = precision_score(y_true, y_pred, average='binary')  # Assuming binary classification\n",
    "    recall = recall_score(y_true, y_pred, average='binary')  # Assuming binary classification\n",
    "    f1 = f1_score(y_true, y_pred, average='binary')  # Assuming binary classification\n",
    "    cm = confusion_matrix(y_true, y_pred)\n",
    "\n",
    "    return accuracy, precision, recall, f1, cm"
   ]
  },
  {
   "cell_type": "code",
   "execution_count": 6,
   "metadata": {},
   "outputs": [
    {
     "data": {
      "text/html": [
       "<div>\n",
       "<style scoped>\n",
       "    .dataframe tbody tr th:only-of-type {\n",
       "        vertical-align: middle;\n",
       "    }\n",
       "\n",
       "    .dataframe tbody tr th {\n",
       "        vertical-align: top;\n",
       "    }\n",
       "\n",
       "    .dataframe thead th {\n",
       "        text-align: right;\n",
       "    }\n",
       "</style>\n",
       "<table border=\"1\" class=\"dataframe\">\n",
       "  <thead>\n",
       "    <tr style=\"text-align: right;\">\n",
       "      <th></th>\n",
       "      <th></th>\n",
       "      <th></th>\n",
       "    </tr>\n",
       "    <tr>\n",
       "      <th></th>\n",
       "      <th></th>\n",
       "      <th></th>\n",
       "    </tr>\n",
       "  </thead>\n",
       "  <tbody>\n",
       "    <tr>\n",
       "      <th>Initiated</th>\n",
       "      <td>. . . . . . . . . . . . . . . . . .</td>\n",
       "      <td>09:16:35</td>\n",
       "    </tr>\n",
       "    <tr>\n",
       "      <th>Status</th>\n",
       "      <td>. . . . . . . . . . . . . . . . . .</td>\n",
       "      <td>Loading Dependencies</td>\n",
       "    </tr>\n",
       "    <tr>\n",
       "      <th>Estimator</th>\n",
       "      <td>. . . . . . . . . . . . . . . . . .</td>\n",
       "      <td>Compiling Library</td>\n",
       "    </tr>\n",
       "  </tbody>\n",
       "</table>\n",
       "</div>"
      ],
      "text/plain": [
       "                                                                    \n",
       "                                                                    \n",
       "Initiated  . . . . . . . . . . . . . . . . . .              09:16:35\n",
       "Status     . . . . . . . . . . . . . . . . . .  Loading Dependencies\n",
       "Estimator  . . . . . . . . . . . . . . . . . .     Compiling Library"
      ]
     },
     "metadata": {},
     "output_type": "display_data"
    },
    {
     "data": {
      "text/html": [
       "<div>\n",
       "<style scoped>\n",
       "    .dataframe tbody tr th:only-of-type {\n",
       "        vertical-align: middle;\n",
       "    }\n",
       "\n",
       "    .dataframe tbody tr th {\n",
       "        vertical-align: top;\n",
       "    }\n",
       "\n",
       "    .dataframe thead th {\n",
       "        text-align: right;\n",
       "    }\n",
       "</style>\n",
       "<table border=\"1\" class=\"dataframe\">\n",
       "  <thead>\n",
       "    <tr style=\"text-align: right;\">\n",
       "      <th></th>\n",
       "      <th>Model</th>\n",
       "      <th>Accuracy</th>\n",
       "      <th>AUC</th>\n",
       "      <th>Recall</th>\n",
       "      <th>Prec.</th>\n",
       "      <th>F1</th>\n",
       "      <th>Kappa</th>\n",
       "      <th>MCC</th>\n",
       "      <th>TT (Sec)</th>\n",
       "    </tr>\n",
       "  </thead>\n",
       "  <tbody>\n",
       "  </tbody>\n",
       "</table>\n",
       "</div>"
      ],
      "text/plain": [
       "Empty DataFrame\n",
       "Columns: [Model, Accuracy, AUC, Recall, Prec., F1, Kappa, MCC, TT (Sec)]\n",
       "Index: []"
      ]
     },
     "metadata": {},
     "output_type": "display_data"
    },
    {
     "name": "stdout",
     "output_type": "stream",
     "text": [
      "Fitting 10 folds for each of 10 candidates, totalling 100 fits\n"
     ]
    },
    {
     "data": {
      "text/html": [
       "<style type=\"text/css\">\n",
       "</style>\n",
       "<table id=\"T_5be87\">\n",
       "  <thead>\n",
       "    <tr>\n",
       "      <th class=\"blank level0\" >&nbsp;</th>\n",
       "      <th id=\"T_5be87_level0_col0\" class=\"col_heading level0 col0\" >Model</th>\n",
       "      <th id=\"T_5be87_level0_col1\" class=\"col_heading level0 col1\" >Accuracy</th>\n",
       "      <th id=\"T_5be87_level0_col2\" class=\"col_heading level0 col2\" >AUC</th>\n",
       "      <th id=\"T_5be87_level0_col3\" class=\"col_heading level0 col3\" >Recall</th>\n",
       "      <th id=\"T_5be87_level0_col4\" class=\"col_heading level0 col4\" >Prec.</th>\n",
       "      <th id=\"T_5be87_level0_col5\" class=\"col_heading level0 col5\" >F1</th>\n",
       "      <th id=\"T_5be87_level0_col6\" class=\"col_heading level0 col6\" >Kappa</th>\n",
       "      <th id=\"T_5be87_level0_col7\" class=\"col_heading level0 col7\" >MCC</th>\n",
       "    </tr>\n",
       "  </thead>\n",
       "  <tbody>\n",
       "    <tr>\n",
       "      <th id=\"T_5be87_level0_row0\" class=\"row_heading level0 row0\" >0</th>\n",
       "      <td id=\"T_5be87_row0_col0\" class=\"data row0 col0\" >Extra Trees Classifier</td>\n",
       "      <td id=\"T_5be87_row0_col1\" class=\"data row0 col1\" >0.9918</td>\n",
       "      <td id=\"T_5be87_row0_col2\" class=\"data row0 col2\" >0.9998</td>\n",
       "      <td id=\"T_5be87_row0_col3\" class=\"data row0 col3\" >0.9910</td>\n",
       "      <td id=\"T_5be87_row0_col4\" class=\"data row0 col4\" >0.9928</td>\n",
       "      <td id=\"T_5be87_row0_col5\" class=\"data row0 col5\" >0.9919</td>\n",
       "      <td id=\"T_5be87_row0_col6\" class=\"data row0 col6\" >0.9835</td>\n",
       "      <td id=\"T_5be87_row0_col7\" class=\"data row0 col7\" >0.9835</td>\n",
       "    </tr>\n",
       "  </tbody>\n",
       "</table>\n"
      ],
      "text/plain": [
       "<pandas.io.formats.style.Styler at 0x7fe66a202fd0>"
      ]
     },
     "metadata": {},
     "output_type": "display_data"
    }
   ],
   "source": [
    "# Here we test our dataset with \n",
    "# Initialiser l'environnement PyCaret\n",
    "classifier_test = setup(data = df, target = 'target') # session_id=123 allow to reproduce the same results\n",
    "\n",
    "# Comparer tous les modèles disponibles dans la bibliothèque de modèles \n",
    "models = compare_models()\n",
    "\n",
    "# Sélectionner le meilleur modèle\n",
    "best_model = automl(optimize = 'Accuracy')\n",
    "\n",
    "# Affiner le meilleur modèle\n",
    "tuned_best_model = tune_model(best_model)\n",
    "\n",
    "# Prédire les étiquettes de classe pour l'ensemble de données de test\n",
    "predictions = predict_model(tuned_best_model, data = df)\n"
   ]
  },
  {
   "cell_type": "code",
   "execution_count": 7,
   "metadata": {},
   "outputs": [],
   "source": [
    "from sklearn.svm import SVC\n",
    "\n",
    "# Create a SVM Classifier\n",
    "svm_model = SVC(kernel='linear') # Linear Kernel\n",
    "\n",
    "# Train the model using the training sets\n",
    "svm_model.fit(X_train, y_train)\n",
    "\n",
    "# Predict the response for test dataset\n",
    "svm_predictions = svm_model.predict(X_test)\n"
   ]
  },
  {
   "cell_type": "code",
   "execution_count": 8,
   "metadata": {},
   "outputs": [],
   "source": [
    "svm_accuracy, svm_precision, svm_recall, svm_f1, svm_cm = generate_model_metrics(y_test, svm_predictions)"
   ]
  },
  {
   "cell_type": "code",
   "execution_count": 13,
   "metadata": {},
   "outputs": [
    {
     "name": "stdout",
     "output_type": "stream",
     "text": [
      "Model\t\t\tAccuracy\t\tPrecision\t\tRecall\t\t\tF1 Score\n",
      "SVM Model\t\t0.9272727272727272\t0.9245283018867925\t0.9245283018867925\t0.9245283018867925\n"
     ]
    }
   ],
   "source": [
    "print(\"Model\\t\\t\\tAccuracy\\t\\tPrecision\\t\\tRecall\\t\\t\\tF1 Score\")\n",
    "print(f\"SVM Model\\t\\t{svm_accuracy}\\t{svm_precision}\\t{svm_recall}\\t{svm_f1}\")\n"
   ]
  }
 ],
 "metadata": {
  "kernelspec": {
   "display_name": ".venv",
   "language": "python",
   "name": "python3"
  },
  "language_info": {
   "codemirror_mode": {
    "name": "ipython",
    "version": 3
   },
   "file_extension": ".py",
   "mimetype": "text/x-python",
   "name": "python",
   "nbconvert_exporter": "python",
   "pygments_lexer": "ipython3",
   "version": "3.11.6"
  }
 },
 "nbformat": 4,
 "nbformat_minor": 2
}
