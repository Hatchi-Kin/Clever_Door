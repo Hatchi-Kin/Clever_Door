{
 "cells": [
  {
   "cell_type": "code",
   "execution_count": 1,
   "metadata": {},
   "outputs": [],
   "source": [
    "from sklearn.model_selection import train_test_split\n",
    "from sklearn.metrics import confusion_matrix, precision_score, recall_score, f1_score, accuracy_score\n",
    "from pycaret.classification import *\n",
    "import pandas as pd\n",
    "import warnings\n",
    "warnings.filterwarnings('ignore')"
   ]
  },
  {
   "cell_type": "code",
   "execution_count": 2,
   "metadata": {},
   "outputs": [],
   "source": [
    "# mlflow.set_experiment(\"Baseline-Models\") "
   ]
  },
  {
   "cell_type": "code",
   "execution_count": 2,
   "metadata": {},
   "outputs": [
    {
     "data": {
      "text/html": [
       "<div>\n",
       "<style scoped>\n",
       "    .dataframe tbody tr th:only-of-type {\n",
       "        vertical-align: middle;\n",
       "    }\n",
       "\n",
       "    .dataframe tbody tr th {\n",
       "        vertical-align: top;\n",
       "    }\n",
       "\n",
       "    .dataframe thead th {\n",
       "        text-align: right;\n",
       "    }\n",
       "</style>\n",
       "<table border=\"1\" class=\"dataframe\">\n",
       "  <thead>\n",
       "    <tr style=\"text-align: right;\">\n",
       "      <th></th>\n",
       "      <th>0</th>\n",
       "      <th>1</th>\n",
       "      <th>2</th>\n",
       "      <th>3</th>\n",
       "      <th>4</th>\n",
       "      <th>5</th>\n",
       "      <th>6</th>\n",
       "      <th>7</th>\n",
       "      <th>8</th>\n",
       "      <th>9</th>\n",
       "      <th>...</th>\n",
       "      <th>503</th>\n",
       "      <th>504</th>\n",
       "      <th>505</th>\n",
       "      <th>506</th>\n",
       "      <th>507</th>\n",
       "      <th>508</th>\n",
       "      <th>509</th>\n",
       "      <th>510</th>\n",
       "      <th>511</th>\n",
       "      <th>target</th>\n",
       "    </tr>\n",
       "  </thead>\n",
       "  <tbody>\n",
       "    <tr>\n",
       "      <th>228</th>\n",
       "      <td>0.004839</td>\n",
       "      <td>0.037962</td>\n",
       "      <td>0.000964</td>\n",
       "      <td>-0.042960</td>\n",
       "      <td>0.073875</td>\n",
       "      <td>-0.024658</td>\n",
       "      <td>-0.014600</td>\n",
       "      <td>0.051273</td>\n",
       "      <td>0.056075</td>\n",
       "      <td>0.040022</td>\n",
       "      <td>...</td>\n",
       "      <td>-0.060652</td>\n",
       "      <td>0.038230</td>\n",
       "      <td>-0.048362</td>\n",
       "      <td>-0.094684</td>\n",
       "      <td>0.037091</td>\n",
       "      <td>0.010041</td>\n",
       "      <td>-0.040914</td>\n",
       "      <td>0.006107</td>\n",
       "      <td>0.043223</td>\n",
       "      <td>1</td>\n",
       "    </tr>\n",
       "    <tr>\n",
       "      <th>464</th>\n",
       "      <td>0.017879</td>\n",
       "      <td>0.104591</td>\n",
       "      <td>0.046294</td>\n",
       "      <td>-0.014512</td>\n",
       "      <td>0.054697</td>\n",
       "      <td>-0.023779</td>\n",
       "      <td>-0.010416</td>\n",
       "      <td>0.044969</td>\n",
       "      <td>0.039795</td>\n",
       "      <td>0.020536</td>\n",
       "      <td>...</td>\n",
       "      <td>-0.007118</td>\n",
       "      <td>0.019549</td>\n",
       "      <td>-0.092360</td>\n",
       "      <td>0.016107</td>\n",
       "      <td>-0.013383</td>\n",
       "      <td>0.044809</td>\n",
       "      <td>0.051787</td>\n",
       "      <td>0.009144</td>\n",
       "      <td>0.026285</td>\n",
       "      <td>1</td>\n",
       "    </tr>\n",
       "    <tr>\n",
       "      <th>682</th>\n",
       "      <td>-0.014951</td>\n",
       "      <td>-0.035121</td>\n",
       "      <td>-0.050525</td>\n",
       "      <td>-0.025533</td>\n",
       "      <td>-0.028107</td>\n",
       "      <td>0.033384</td>\n",
       "      <td>0.041759</td>\n",
       "      <td>0.030706</td>\n",
       "      <td>0.050200</td>\n",
       "      <td>-0.012033</td>\n",
       "      <td>...</td>\n",
       "      <td>-0.021835</td>\n",
       "      <td>0.048683</td>\n",
       "      <td>0.101160</td>\n",
       "      <td>-0.000138</td>\n",
       "      <td>0.027972</td>\n",
       "      <td>0.009944</td>\n",
       "      <td>-0.074664</td>\n",
       "      <td>-0.073790</td>\n",
       "      <td>-0.011910</td>\n",
       "      <td>0</td>\n",
       "    </tr>\n",
       "  </tbody>\n",
       "</table>\n",
       "<p>3 rows × 513 columns</p>\n",
       "</div>"
      ],
      "text/plain": [
       "            0         1         2         3         4         5         6  \\\n",
       "228  0.004839  0.037962  0.000964 -0.042960  0.073875 -0.024658 -0.014600   \n",
       "464  0.017879  0.104591  0.046294 -0.014512  0.054697 -0.023779 -0.010416   \n",
       "682 -0.014951 -0.035121 -0.050525 -0.025533 -0.028107  0.033384  0.041759   \n",
       "\n",
       "            7         8         9  ...       503       504       505  \\\n",
       "228  0.051273  0.056075  0.040022  ... -0.060652  0.038230 -0.048362   \n",
       "464  0.044969  0.039795  0.020536  ... -0.007118  0.019549 -0.092360   \n",
       "682  0.030706  0.050200 -0.012033  ... -0.021835  0.048683  0.101160   \n",
       "\n",
       "          506       507       508       509       510       511  target  \n",
       "228 -0.094684  0.037091  0.010041 -0.040914  0.006107  0.043223       1  \n",
       "464  0.016107 -0.013383  0.044809  0.051787  0.009144  0.026285       1  \n",
       "682 -0.000138  0.027972  0.009944 -0.074664 -0.073790 -0.011910       0  \n",
       "\n",
       "[3 rows x 513 columns]"
      ]
     },
     "execution_count": 2,
     "metadata": {},
     "output_type": "execute_result"
    }
   ],
   "source": [
    "df = pd.read_csv('celeb_embeddings.csv')\n",
    "df.sample(3)"
   ]
  },
  {
   "cell_type": "code",
   "execution_count": 3,
   "metadata": {},
   "outputs": [],
   "source": [
    "# Separate the features and the target\n",
    "X = df.drop('target', axis=1)\n",
    "y = df['target']\n",
    "\n",
    "# Split the data into training and testing sets\n",
    "X_train, X_test, y_train, y_test = train_test_split(X, y, test_size=0.1, random_state=42)"
   ]
  },
  {
   "cell_type": "code",
   "execution_count": 4,
   "metadata": {},
   "outputs": [],
   "source": [
    "def generate_model_metrics(y_true, y_pred):\n",
    "\n",
    "    accuracy = accuracy_score(y_true, y_pred)\n",
    "    precision = precision_score(y_true, y_pred, average='binary')  # Assuming binary classification\n",
    "    recall = recall_score(y_true, y_pred, average='binary')  # Assuming binary classification\n",
    "    f1 = f1_score(y_true, y_pred, average='binary')  # Assuming binary classification\n",
    "    cm = confusion_matrix(y_true, y_pred)\n",
    "\n",
    "    return accuracy, precision, recall, f1, cm"
   ]
  },
  {
   "cell_type": "code",
   "execution_count": 7,
   "metadata": {},
   "outputs": [
    {
     "data": {
      "text/html": [
       "<div>\n",
       "<style scoped>\n",
       "    .dataframe tbody tr th:only-of-type {\n",
       "        vertical-align: middle;\n",
       "    }\n",
       "\n",
       "    .dataframe tbody tr th {\n",
       "        vertical-align: top;\n",
       "    }\n",
       "\n",
       "    .dataframe thead th {\n",
       "        text-align: right;\n",
       "    }\n",
       "</style>\n",
       "<table border=\"1\" class=\"dataframe\">\n",
       "  <thead>\n",
       "    <tr style=\"text-align: right;\">\n",
       "      <th></th>\n",
       "      <th></th>\n",
       "      <th></th>\n",
       "    </tr>\n",
       "    <tr>\n",
       "      <th></th>\n",
       "      <th></th>\n",
       "      <th></th>\n",
       "    </tr>\n",
       "  </thead>\n",
       "  <tbody>\n",
       "    <tr>\n",
       "      <th>Initiated</th>\n",
       "      <td>. . . . . . . . . . . . . . . . . .</td>\n",
       "      <td>09:49:56</td>\n",
       "    </tr>\n",
       "    <tr>\n",
       "      <th>Status</th>\n",
       "      <td>. . . . . . . . . . . . . . . . . .</td>\n",
       "      <td>Loading Dependencies</td>\n",
       "    </tr>\n",
       "    <tr>\n",
       "      <th>Estimator</th>\n",
       "      <td>. . . . . . . . . . . . . . . . . .</td>\n",
       "      <td>Compiling Library</td>\n",
       "    </tr>\n",
       "  </tbody>\n",
       "</table>\n",
       "</div>"
      ],
      "text/plain": [
       "                                                                    \n",
       "                                                                    \n",
       "Initiated  . . . . . . . . . . . . . . . . . .              09:49:56\n",
       "Status     . . . . . . . . . . . . . . . . . .  Loading Dependencies\n",
       "Estimator  . . . . . . . . . . . . . . . . . .     Compiling Library"
      ]
     },
     "metadata": {},
     "output_type": "display_data"
    },
    {
     "data": {
      "text/html": [],
      "text/plain": [
       "<IPython.core.display.HTML object>"
      ]
     },
     "metadata": {},
     "output_type": "display_data"
    },
    {
     "data": {
      "text/html": [],
      "text/plain": [
       "<IPython.core.display.HTML object>"
      ]
     },
     "metadata": {},
     "output_type": "display_data"
    }
   ],
   "source": [
    "file_path = 'celeb_embeddings.csv'\n",
    "data = pd.read_csv(file_path)\n",
    "\n",
    "# # load dataset\n",
    "# from pycaret.datasets import get_data\n",
    "# classifier = get_data(data)\n",
    " \n",
    "# init setup\n",
    "from pycaret.classification import *\n",
    "clf1 = setup(data = data, target = 'target')\n",
    " \n",
    "# compare models\n",
    "best = compare_models(sort = 'F1')"
   ]
  },
  {
   "attachments": {},
   "cell_type": "markdown",
   "metadata": {},
   "source": [
    "## Testing all classifiers models from PyCaret "
   ]
  },
  {
   "cell_type": "code",
   "execution_count": 6,
   "metadata": {},
   "outputs": [
    {
     "data": {
      "text/html": [
       "<div>\n",
       "<style scoped>\n",
       "    .dataframe tbody tr th:only-of-type {\n",
       "        vertical-align: middle;\n",
       "    }\n",
       "\n",
       "    .dataframe tbody tr th {\n",
       "        vertical-align: top;\n",
       "    }\n",
       "\n",
       "    .dataframe thead th {\n",
       "        text-align: right;\n",
       "    }\n",
       "</style>\n",
       "<table border=\"1\" class=\"dataframe\">\n",
       "  <thead>\n",
       "    <tr style=\"text-align: right;\">\n",
       "      <th></th>\n",
       "      <th></th>\n",
       "      <th></th>\n",
       "    </tr>\n",
       "    <tr>\n",
       "      <th></th>\n",
       "      <th></th>\n",
       "      <th></th>\n",
       "    </tr>\n",
       "  </thead>\n",
       "  <tbody>\n",
       "    <tr>\n",
       "      <th>Initiated</th>\n",
       "      <td>. . . . . . . . . . . . . . . . . .</td>\n",
       "      <td>09:16:35</td>\n",
       "    </tr>\n",
       "    <tr>\n",
       "      <th>Status</th>\n",
       "      <td>. . . . . . . . . . . . . . . . . .</td>\n",
       "      <td>Loading Dependencies</td>\n",
       "    </tr>\n",
       "    <tr>\n",
       "      <th>Estimator</th>\n",
       "      <td>. . . . . . . . . . . . . . . . . .</td>\n",
       "      <td>Compiling Library</td>\n",
       "    </tr>\n",
       "  </tbody>\n",
       "</table>\n",
       "</div>"
      ],
      "text/plain": [
       "                                                                    \n",
       "                                                                    \n",
       "Initiated  . . . . . . . . . . . . . . . . . .              09:16:35\n",
       "Status     . . . . . . . . . . . . . . . . . .  Loading Dependencies\n",
       "Estimator  . . . . . . . . . . . . . . . . . .     Compiling Library"
      ]
     },
     "metadata": {},
     "output_type": "display_data"
    },
    {
     "data": {
      "text/html": [
       "<div>\n",
       "<style scoped>\n",
       "    .dataframe tbody tr th:only-of-type {\n",
       "        vertical-align: middle;\n",
       "    }\n",
       "\n",
       "    .dataframe tbody tr th {\n",
       "        vertical-align: top;\n",
       "    }\n",
       "\n",
       "    .dataframe thead th {\n",
       "        text-align: right;\n",
       "    }\n",
       "</style>\n",
       "<table border=\"1\" class=\"dataframe\">\n",
       "  <thead>\n",
       "    <tr style=\"text-align: right;\">\n",
       "      <th></th>\n",
       "      <th>Model</th>\n",
       "      <th>Accuracy</th>\n",
       "      <th>AUC</th>\n",
       "      <th>Recall</th>\n",
       "      <th>Prec.</th>\n",
       "      <th>F1</th>\n",
       "      <th>Kappa</th>\n",
       "      <th>MCC</th>\n",
       "      <th>TT (Sec)</th>\n",
       "    </tr>\n",
       "  </thead>\n",
       "  <tbody>\n",
       "  </tbody>\n",
       "</table>\n",
       "</div>"
      ],
      "text/plain": [
       "Empty DataFrame\n",
       "Columns: [Model, Accuracy, AUC, Recall, Prec., F1, Kappa, MCC, TT (Sec)]\n",
       "Index: []"
      ]
     },
     "metadata": {},
     "output_type": "display_data"
    },
    {
     "name": "stdout",
     "output_type": "stream",
     "text": [
      "Fitting 10 folds for each of 10 candidates, totalling 100 fits\n"
     ]
    },
    {
     "data": {
      "text/html": [
       "<style type=\"text/css\">\n",
       "</style>\n",
       "<table id=\"T_5be87\">\n",
       "  <thead>\n",
       "    <tr>\n",
       "      <th class=\"blank level0\" >&nbsp;</th>\n",
       "      <th id=\"T_5be87_level0_col0\" class=\"col_heading level0 col0\" >Model</th>\n",
       "      <th id=\"T_5be87_level0_col1\" class=\"col_heading level0 col1\" >Accuracy</th>\n",
       "      <th id=\"T_5be87_level0_col2\" class=\"col_heading level0 col2\" >AUC</th>\n",
       "      <th id=\"T_5be87_level0_col3\" class=\"col_heading level0 col3\" >Recall</th>\n",
       "      <th id=\"T_5be87_level0_col4\" class=\"col_heading level0 col4\" >Prec.</th>\n",
       "      <th id=\"T_5be87_level0_col5\" class=\"col_heading level0 col5\" >F1</th>\n",
       "      <th id=\"T_5be87_level0_col6\" class=\"col_heading level0 col6\" >Kappa</th>\n",
       "      <th id=\"T_5be87_level0_col7\" class=\"col_heading level0 col7\" >MCC</th>\n",
       "    </tr>\n",
       "  </thead>\n",
       "  <tbody>\n",
       "    <tr>\n",
       "      <th id=\"T_5be87_level0_row0\" class=\"row_heading level0 row0\" >0</th>\n",
       "      <td id=\"T_5be87_row0_col0\" class=\"data row0 col0\" >Extra Trees Classifier</td>\n",
       "      <td id=\"T_5be87_row0_col1\" class=\"data row0 col1\" >0.9918</td>\n",
       "      <td id=\"T_5be87_row0_col2\" class=\"data row0 col2\" >0.9998</td>\n",
       "      <td id=\"T_5be87_row0_col3\" class=\"data row0 col3\" >0.9910</td>\n",
       "      <td id=\"T_5be87_row0_col4\" class=\"data row0 col4\" >0.9928</td>\n",
       "      <td id=\"T_5be87_row0_col5\" class=\"data row0 col5\" >0.9919</td>\n",
       "      <td id=\"T_5be87_row0_col6\" class=\"data row0 col6\" >0.9835</td>\n",
       "      <td id=\"T_5be87_row0_col7\" class=\"data row0 col7\" >0.9835</td>\n",
       "    </tr>\n",
       "  </tbody>\n",
       "</table>\n"
      ],
      "text/plain": [
       "<pandas.io.formats.style.Styler at 0x7fe66a202fd0>"
      ]
     },
     "metadata": {},
     "output_type": "display_data"
    }
   ],
   "source": [
    "# Here we test our dataset with all classifiers models from PyCaret\n",
    "# Initialize PyCaret environment\n",
    "classifier_test = setup(data = df, target = 'target') # session_id=123 allow to reproduce the same results\n",
    "\n",
    "# Compare all (classifiers) models in PyCaret\n",
    "models = compare_models()\n",
    "\n",
    "# Select best model\n",
    "best_model = automl(optimize = 'Accuracy')\n",
    "\n",
    "# Fine tuning the best model\n",
    "tuned_best_model = tune_model(best_model)\n",
    "\n",
    "# Predict class labels\n",
    "predictions = predict_model(tuned_best_model, data = df)\n"
   ]
  },
  {
   "cell_type": "code",
   "execution_count": 14,
   "metadata": {},
   "outputs": [
    {
     "name": "stdout",
     "output_type": "stream",
     "text": [
      "Transformation Pipeline and Model Successfully Saved\n",
      "Transformation Pipeline and Model Successfully Loaded\n"
     ]
    },
    {
     "data": {
      "text/html": [
       "<style type=\"text/css\">\n",
       "</style>\n",
       "<table id=\"T_207e5\">\n",
       "  <thead>\n",
       "    <tr>\n",
       "      <th class=\"blank level0\" >&nbsp;</th>\n",
       "      <th id=\"T_207e5_level0_col0\" class=\"col_heading level0 col0\" >Model</th>\n",
       "      <th id=\"T_207e5_level0_col1\" class=\"col_heading level0 col1\" >Accuracy</th>\n",
       "      <th id=\"T_207e5_level0_col2\" class=\"col_heading level0 col2\" >AUC</th>\n",
       "      <th id=\"T_207e5_level0_col3\" class=\"col_heading level0 col3\" >Recall</th>\n",
       "      <th id=\"T_207e5_level0_col4\" class=\"col_heading level0 col4\" >Prec.</th>\n",
       "      <th id=\"T_207e5_level0_col5\" class=\"col_heading level0 col5\" >F1</th>\n",
       "      <th id=\"T_207e5_level0_col6\" class=\"col_heading level0 col6\" >Kappa</th>\n",
       "      <th id=\"T_207e5_level0_col7\" class=\"col_heading level0 col7\" >MCC</th>\n",
       "    </tr>\n",
       "  </thead>\n",
       "  <tbody>\n",
       "    <tr>\n",
       "      <th id=\"T_207e5_level0_row0\" class=\"row_heading level0 row0\" >0</th>\n",
       "      <td id=\"T_207e5_row0_col0\" class=\"data row0 col0\" >Extra Trees Classifier</td>\n",
       "      <td id=\"T_207e5_row0_col1\" class=\"data row0 col1\" >0.9918</td>\n",
       "      <td id=\"T_207e5_row0_col2\" class=\"data row0 col2\" >0.9998</td>\n",
       "      <td id=\"T_207e5_row0_col3\" class=\"data row0 col3\" >0.9910</td>\n",
       "      <td id=\"T_207e5_row0_col4\" class=\"data row0 col4\" >0.9928</td>\n",
       "      <td id=\"T_207e5_row0_col5\" class=\"data row0 col5\" >0.9919</td>\n",
       "      <td id=\"T_207e5_row0_col6\" class=\"data row0 col6\" >0.9835</td>\n",
       "      <td id=\"T_207e5_row0_col7\" class=\"data row0 col7\" >0.9835</td>\n",
       "    </tr>\n",
       "  </tbody>\n",
       "</table>\n"
      ],
      "text/plain": [
       "<pandas.io.formats.style.Styler at 0x7fe674d28fd0>"
      ]
     },
     "metadata": {},
     "output_type": "display_data"
    }
   ],
   "source": [
    "# Save the model\n",
    "save_model(tuned_best_model, 'tuned_best_model')\n",
    "\n",
    "# Load the model\n",
    "loaded_model = load_model('tuned_best_model')\n",
    "\n",
    "# Predict using the loaded model\n",
    "predictions_loaded_model = predict_model(loaded_model, data = df)"
   ]
  },
  {
   "attachments": {},
   "cell_type": "markdown",
   "metadata": {},
   "source": [
    "## Testing SVM model"
   ]
  },
  {
   "cell_type": "code",
   "execution_count": 7,
   "metadata": {},
   "outputs": [],
   "source": [
    "from sklearn.svm import SVC\n",
    "\n",
    "# Create a SVM Classifier\n",
    "svm_model = SVC(kernel='linear') # Linear Kernel\n",
    "\n",
    "# Train the model using the training sets\n",
    "svm_model.fit(X_train, y_train)\n",
    "\n",
    "# Predict the response for test dataset\n",
    "svm_predictions = svm_model.predict(X_test)\n"
   ]
  },
  {
   "cell_type": "code",
   "execution_count": 8,
   "metadata": {},
   "outputs": [],
   "source": [
    "svm_accuracy, svm_precision, svm_recall, svm_f1, svm_cm = generate_model_metrics(y_test, svm_predictions)"
   ]
  },
  {
   "cell_type": "code",
   "execution_count": 13,
   "metadata": {},
   "outputs": [
    {
     "name": "stdout",
     "output_type": "stream",
     "text": [
      "Model\t\t\tAccuracy\t\tPrecision\t\tRecall\t\t\tF1 Score\n",
      "SVM Model\t\t0.9272727272727272\t0.9245283018867925\t0.9245283018867925\t0.9245283018867925\n"
     ]
    }
   ],
   "source": [
    "print(\"Model\\t\\t\\tAccuracy\\t\\tPrecision\\t\\tRecall\\t\\t\\tF1 Score\")\n",
    "print(f\"SVM Model\\t\\t{svm_accuracy}\\t{svm_precision}\\t{svm_recall}\\t{svm_f1}\")\n"
   ]
  }
 ],
 "metadata": {
  "kernelspec": {
   "display_name": ".venv",
   "language": "python",
   "name": "python3"
  },
  "language_info": {
   "codemirror_mode": {
    "name": "ipython",
    "version": 3
   },
   "file_extension": ".py",
   "mimetype": "text/x-python",
   "name": "python",
   "nbconvert_exporter": "python",
   "pygments_lexer": "ipython3",
   "version": "3.11.6"
  }
 },
 "nbformat": 4,
 "nbformat_minor": 2
}
