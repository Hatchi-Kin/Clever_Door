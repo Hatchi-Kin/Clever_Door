{
 "cells": [
  {
   "cell_type": "code",
   "execution_count": 1,
   "metadata": {},
   "outputs": [],
   "source": [
    "import numpy as np\n",
    "import pandas as pd\n",
    "\n",
    "from sklearn.model_selection import train_test_split\n",
    "\n",
    "from sklearn.neighbors import KNeighborsClassifier\n",
    "from sklearn.svm import SVC\n",
    "from sklearn.tree import DecisionTreeClassifier\n",
    "from sklearn.ensemble import AdaBoostClassifier, RandomForestClassifier\n",
    "from sklearn.neural_network import MLPClassifier\n",
    "\n",
    "from sklearn.metrics import classification_report, confusion_matrix, precision_score"
   ]
  },
  {
   "cell_type": "code",
   "execution_count": 2,
   "metadata": {},
   "outputs": [
    {
     "data": {
      "text/html": [
       "<div>\n",
       "<style scoped>\n",
       "    .dataframe tbody tr th:only-of-type {\n",
       "        vertical-align: middle;\n",
       "    }\n",
       "\n",
       "    .dataframe tbody tr th {\n",
       "        vertical-align: top;\n",
       "    }\n",
       "\n",
       "    .dataframe thead th {\n",
       "        text-align: right;\n",
       "    }\n",
       "</style>\n",
       "<table border=\"1\" class=\"dataframe\">\n",
       "  <thead>\n",
       "    <tr style=\"text-align: right;\">\n",
       "      <th></th>\n",
       "      <th>0</th>\n",
       "      <th>1</th>\n",
       "      <th>2</th>\n",
       "      <th>3</th>\n",
       "      <th>4</th>\n",
       "      <th>5</th>\n",
       "      <th>6</th>\n",
       "      <th>7</th>\n",
       "      <th>8</th>\n",
       "      <th>9</th>\n",
       "      <th>...</th>\n",
       "      <th>503</th>\n",
       "      <th>504</th>\n",
       "      <th>505</th>\n",
       "      <th>506</th>\n",
       "      <th>507</th>\n",
       "      <th>508</th>\n",
       "      <th>509</th>\n",
       "      <th>510</th>\n",
       "      <th>511</th>\n",
       "      <th>target</th>\n",
       "    </tr>\n",
       "  </thead>\n",
       "  <tbody>\n",
       "    <tr>\n",
       "      <th>331</th>\n",
       "      <td>-0.014808</td>\n",
       "      <td>0.033748</td>\n",
       "      <td>-0.062553</td>\n",
       "      <td>0.043534</td>\n",
       "      <td>0.044709</td>\n",
       "      <td>-0.011139</td>\n",
       "      <td>-0.016997</td>\n",
       "      <td>0.143988</td>\n",
       "      <td>0.009451</td>\n",
       "      <td>0.030882</td>\n",
       "      <td>...</td>\n",
       "      <td>-0.018095</td>\n",
       "      <td>0.032704</td>\n",
       "      <td>-0.031931</td>\n",
       "      <td>-0.004914</td>\n",
       "      <td>0.048361</td>\n",
       "      <td>0.027371</td>\n",
       "      <td>0.027022</td>\n",
       "      <td>0.014785</td>\n",
       "      <td>-0.012250</td>\n",
       "      <td>1</td>\n",
       "    </tr>\n",
       "    <tr>\n",
       "      <th>295</th>\n",
       "      <td>0.035514</td>\n",
       "      <td>0.025360</td>\n",
       "      <td>0.010652</td>\n",
       "      <td>0.017680</td>\n",
       "      <td>0.050758</td>\n",
       "      <td>-0.010559</td>\n",
       "      <td>0.031325</td>\n",
       "      <td>0.025042</td>\n",
       "      <td>0.034530</td>\n",
       "      <td>0.068032</td>\n",
       "      <td>...</td>\n",
       "      <td>-0.072164</td>\n",
       "      <td>0.019291</td>\n",
       "      <td>-0.057132</td>\n",
       "      <td>-0.095795</td>\n",
       "      <td>0.078904</td>\n",
       "      <td>0.027080</td>\n",
       "      <td>-0.017309</td>\n",
       "      <td>0.025224</td>\n",
       "      <td>0.023855</td>\n",
       "      <td>1</td>\n",
       "    </tr>\n",
       "    <tr>\n",
       "      <th>662</th>\n",
       "      <td>0.002962</td>\n",
       "      <td>0.041258</td>\n",
       "      <td>-0.031453</td>\n",
       "      <td>-0.012893</td>\n",
       "      <td>-0.000747</td>\n",
       "      <td>-0.002275</td>\n",
       "      <td>-0.002039</td>\n",
       "      <td>0.008099</td>\n",
       "      <td>0.018446</td>\n",
       "      <td>0.019329</td>\n",
       "      <td>...</td>\n",
       "      <td>-0.004031</td>\n",
       "      <td>0.121651</td>\n",
       "      <td>0.010412</td>\n",
       "      <td>0.000583</td>\n",
       "      <td>-0.002722</td>\n",
       "      <td>0.020523</td>\n",
       "      <td>0.051351</td>\n",
       "      <td>0.062593</td>\n",
       "      <td>-0.032006</td>\n",
       "      <td>0</td>\n",
       "    </tr>\n",
       "  </tbody>\n",
       "</table>\n",
       "<p>3 rows × 513 columns</p>\n",
       "</div>"
      ],
      "text/plain": [
       "            0         1         2         3         4         5         6  \\\n",
       "331 -0.014808  0.033748 -0.062553  0.043534  0.044709 -0.011139 -0.016997   \n",
       "295  0.035514  0.025360  0.010652  0.017680  0.050758 -0.010559  0.031325   \n",
       "662  0.002962  0.041258 -0.031453 -0.012893 -0.000747 -0.002275 -0.002039   \n",
       "\n",
       "            7         8         9  ...       503       504       505  \\\n",
       "331  0.143988  0.009451  0.030882  ... -0.018095  0.032704 -0.031931   \n",
       "295  0.025042  0.034530  0.068032  ... -0.072164  0.019291 -0.057132   \n",
       "662  0.008099  0.018446  0.019329  ... -0.004031  0.121651  0.010412   \n",
       "\n",
       "          506       507       508       509       510       511  target  \n",
       "331 -0.004914  0.048361  0.027371  0.027022  0.014785 -0.012250       1  \n",
       "295 -0.095795  0.078904  0.027080 -0.017309  0.025224  0.023855       1  \n",
       "662  0.000583 -0.002722  0.020523  0.051351  0.062593 -0.032006       0  \n",
       "\n",
       "[3 rows x 513 columns]"
      ]
     },
     "execution_count": 2,
     "metadata": {},
     "output_type": "execute_result"
    }
   ],
   "source": [
    "df = pd.read_csv('celeb_embeddings.csv')\n",
    "df.sample(3)"
   ]
  },
  {
   "cell_type": "code",
   "execution_count": 3,
   "metadata": {},
   "outputs": [],
   "source": [
    "# Separate the features and the target\n",
    "X = df.drop('target', axis=1)\n",
    "y = df['target']\n",
    "\n",
    "# Split the data into training and testing sets\n",
    "X_train, X_test, y_train, y_test = train_test_split(X, y, test_size=0.1, random_state=42)"
   ]
  },
  {
   "cell_type": "code",
   "execution_count": 4,
   "metadata": {},
   "outputs": [],
   "source": [
    "def print_model_metrics(y_true, y_pred):\n",
    "    # Print a classification report\n",
    "    print(classification_report(y_true, y_pred))\n",
    "\n",
    "    # Print confusion matrix\n",
    "    cm = confusion_matrix(y_true, y_pred)\n",
    "    print(\"### confusion matrix ###\")\n",
    "    print(cm)\n",
    "    print(\"\")\n",
    "\n",
    "    # Print precision\n",
    "    precision = precision_score(y_true, y_pred, average='binary')  # Assuming binary classification\n",
    "    print(\"### Precision ###\")\n",
    "    print(round(precision, 4))"
   ]
  },
  {
   "cell_type": "code",
   "execution_count": 5,
   "metadata": {},
   "outputs": [
    {
     "name": "stdout",
     "output_type": "stream",
     "text": [
      "              precision    recall  f1-score   support\n",
      "\n",
      "           0       1.00      0.81      0.89        57\n",
      "           1       0.83      1.00      0.91        53\n",
      "\n",
      "    accuracy                           0.90       110\n",
      "   macro avg       0.91      0.90      0.90       110\n",
      "weighted avg       0.92      0.90      0.90       110\n",
      "\n",
      "### confusion matrix ###\n",
      "[[46 11]\n",
      " [ 0 53]]\n",
      "\n",
      "### Precision ###\n",
      "0.8281\n"
     ]
    }
   ],
   "source": [
    "# Create and train a KNN classifier\n",
    "clf = KNeighborsClassifier(n_neighbors=3, weights='uniform', metric='euclidean')\n",
    "clf.fit(X_train, y_train)\n",
    "\n",
    "# Make predictions on the testing set\n",
    "y_pred = clf.predict(X_test)\n",
    "\n",
    "# Print the model metrics\n",
    "print_model_metrics(y_test, y_pred)"
   ]
  },
  {
   "cell_type": "code",
   "execution_count": 6,
   "metadata": {},
   "outputs": [
    {
     "name": "stdout",
     "output_type": "stream",
     "text": [
      "              precision    recall  f1-score   support\n",
      "\n",
      "           0       0.98      1.00      0.99        57\n",
      "           1       1.00      0.98      0.99        53\n",
      "\n",
      "    accuracy                           0.99       110\n",
      "   macro avg       0.99      0.99      0.99       110\n",
      "weighted avg       0.99      0.99      0.99       110\n",
      "\n",
      "### confusion matrix ###\n",
      "[[57  0]\n",
      " [ 1 52]]\n",
      "\n",
      "### Precision ###\n",
      "1.0\n"
     ]
    }
   ],
   "source": [
    "# Create and train a SVM classifier\n",
    "clf = SVC(C=1.0, kernel='rbf', gamma='scale', random_state=42)\n",
    "clf.fit(X_train, y_train)\n",
    "\n",
    "# Make predictions on the testing set\n",
    "y_pred = clf.predict(X_test)\n",
    "\n",
    "# Print the model metrics\n",
    "print_model_metrics(y_test, y_pred)"
   ]
  },
  {
   "cell_type": "code",
   "execution_count": 7,
   "metadata": {},
   "outputs": [
    {
     "name": "stdout",
     "output_type": "stream",
     "text": [
      "              precision    recall  f1-score   support\n",
      "\n",
      "           0       0.88      0.88      0.88        57\n",
      "           1       0.87      0.87      0.87        53\n",
      "\n",
      "    accuracy                           0.87       110\n",
      "   macro avg       0.87      0.87      0.87       110\n",
      "weighted avg       0.87      0.87      0.87       110\n",
      "\n",
      "### confusion matrix ###\n",
      "[[50  7]\n",
      " [ 7 46]]\n",
      "\n",
      "### Precision ###\n",
      "0.8679\n"
     ]
    }
   ],
   "source": [
    "# Create and train a Decision Tree classifier\n",
    "clf = DecisionTreeClassifier(criterion='gini', splitter='best', max_depth=None)\n",
    "clf.fit(X_train, y_train)\n",
    "\n",
    "# Make predictions on the testing set\n",
    "y_pred = clf.predict(X_test)\n",
    "\n",
    "# Print the model metrics\n",
    "print_model_metrics(y_test, y_pred)"
   ]
  },
  {
   "cell_type": "code",
   "execution_count": 8,
   "metadata": {},
   "outputs": [
    {
     "name": "stdout",
     "output_type": "stream",
     "text": [
      "              precision    recall  f1-score   support\n",
      "\n",
      "           0       0.95      0.98      0.97        57\n",
      "           1       0.98      0.94      0.96        53\n",
      "\n",
      "    accuracy                           0.96       110\n",
      "   macro avg       0.96      0.96      0.96       110\n",
      "weighted avg       0.96      0.96      0.96       110\n",
      "\n",
      "### confusion matrix ###\n",
      "[[56  1]\n",
      " [ 3 50]]\n",
      "\n",
      "### Precision ###\n",
      "0.9804\n"
     ]
    }
   ],
   "source": [
    "# Create and train a Random Forest classifier\n",
    "clf = RandomForestClassifier(n_estimators=100, criterion='gini', max_depth=None)\n",
    "clf.fit(X_train, y_train)\n",
    "\n",
    "# Make predictions on the testing set\n",
    "y_pred = clf.predict(X_test)\n",
    "\n",
    "# Print the model metrics\n",
    "print_model_metrics(y_test, y_pred)"
   ]
  },
  {
   "cell_type": "code",
   "execution_count": 9,
   "metadata": {},
   "outputs": [
    {
     "name": "stdout",
     "output_type": "stream",
     "text": [
      "              precision    recall  f1-score   support\n",
      "\n",
      "           0       0.97      0.98      0.97        57\n",
      "           1       0.98      0.96      0.97        53\n",
      "\n",
      "    accuracy                           0.97       110\n",
      "   macro avg       0.97      0.97      0.97       110\n",
      "weighted avg       0.97      0.97      0.97       110\n",
      "\n",
      "### confusion matrix ###\n",
      "[[56  1]\n",
      " [ 2 51]]\n",
      "\n",
      "### Precision ###\n",
      "0.9808\n"
     ]
    }
   ],
   "source": [
    "# Create and train a MLP classifier\n",
    "clf = MLPClassifier(hidden_layer_sizes=(100,), activation='relu', solver='adam')\n",
    "clf.fit(X_train, y_train)\n",
    "\n",
    "# Make predictions on the testing set\n",
    "y_pred = clf.predict(X_test)\n",
    "\n",
    "# Print the model metrics\n",
    "print_model_metrics(y_test, y_pred)"
   ]
  },
  {
   "cell_type": "code",
   "execution_count": 10,
   "metadata": {},
   "outputs": [
    {
     "name": "stdout",
     "output_type": "stream",
     "text": [
      "              precision    recall  f1-score   support\n",
      "\n",
      "           0       0.95      0.96      0.96        57\n",
      "           1       0.96      0.94      0.95        53\n",
      "\n",
      "    accuracy                           0.95       110\n",
      "   macro avg       0.95      0.95      0.95       110\n",
      "weighted avg       0.95      0.95      0.95       110\n",
      "\n",
      "### confusion matrix ###\n",
      "[[55  2]\n",
      " [ 3 50]]\n",
      "\n",
      "### Precision ###\n",
      "0.9615\n"
     ]
    }
   ],
   "source": [
    "# Create and train AdaBoost classifier\n",
    "clf = AdaBoostClassifier(estimator=DecisionTreeClassifier(max_depth=1), n_estimators=50, learning_rate=1.0)\n",
    "clf.fit(X_train, y_train)\n",
    "\n",
    "# Make predictions on the testing set\n",
    "y_pred = clf.predict(X_test)\n",
    "\n",
    "# Print the model metrics\n",
    "print_model_metrics(y_test, y_pred)"
   ]
  }
 ],
 "metadata": {
  "kernelspec": {
   "display_name": ".venv",
   "language": "python",
   "name": "python3"
  },
  "language_info": {
   "codemirror_mode": {
    "name": "ipython",
    "version": 3
   },
   "file_extension": ".py",
   "mimetype": "text/x-python",
   "name": "python",
   "nbconvert_exporter": "python",
   "pygments_lexer": "ipython3",
   "version": "3.11.4"
  }
 },
 "nbformat": 4,
 "nbformat_minor": 2
}
