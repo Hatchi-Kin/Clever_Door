{
 "cells": [
  {
   "cell_type": "code",
   "execution_count": 1,
   "metadata": {},
   "outputs": [],
   "source": [
    "import numpy as np\n",
    "import pandas as pd\n",
    "\n",
    "from sklearn.model_selection import train_test_split\n",
    "\n",
    "from sklearn.neighbors import KNeighborsClassifier\n",
    "from sklearn.svm import SVC\n",
    "from sklearn.tree import DecisionTreeClassifier\n",
    "from sklearn.ensemble import AdaBoostClassifier, RandomForestClassifier\n",
    "from sklearn.neural_network import MLPClassifier\n",
    "\n",
    "from sklearn.metrics import confusion_matrix, precision_score, recall_score, f1_score, accuracy_score\n",
    "\n",
    "import mlflow\n",
    "\n",
    "import warnings\n",
    "warnings.filterwarnings('ignore')"
   ]
  },
  {
   "cell_type": "code",
   "execution_count": 2,
   "metadata": {},
   "outputs": [
    {
     "data": {
      "text/plain": [
       "<Experiment: artifact_location='file:///c:/Users/jneed/Documents/projets/vacances/mlruns/788223573085369621', creation_time=1700001940422, experiment_id='788223573085369621', last_update_time=1700001940422, lifecycle_stage='active', name='Baseline-Models', tags={}>"
      ]
     },
     "execution_count": 2,
     "metadata": {},
     "output_type": "execute_result"
    }
   ],
   "source": [
    "mlflow.set_experiment(\"Baseline-Models\") "
   ]
  },
  {
   "cell_type": "code",
   "execution_count": 3,
   "metadata": {},
   "outputs": [
    {
     "data": {
      "text/html": [
       "<div>\n",
       "<style scoped>\n",
       "    .dataframe tbody tr th:only-of-type {\n",
       "        vertical-align: middle;\n",
       "    }\n",
       "\n",
       "    .dataframe tbody tr th {\n",
       "        vertical-align: top;\n",
       "    }\n",
       "\n",
       "    .dataframe thead th {\n",
       "        text-align: right;\n",
       "    }\n",
       "</style>\n",
       "<table border=\"1\" class=\"dataframe\">\n",
       "  <thead>\n",
       "    <tr style=\"text-align: right;\">\n",
       "      <th></th>\n",
       "      <th>0</th>\n",
       "      <th>1</th>\n",
       "      <th>2</th>\n",
       "      <th>3</th>\n",
       "      <th>4</th>\n",
       "      <th>5</th>\n",
       "      <th>6</th>\n",
       "      <th>7</th>\n",
       "      <th>8</th>\n",
       "      <th>9</th>\n",
       "      <th>...</th>\n",
       "      <th>503</th>\n",
       "      <th>504</th>\n",
       "      <th>505</th>\n",
       "      <th>506</th>\n",
       "      <th>507</th>\n",
       "      <th>508</th>\n",
       "      <th>509</th>\n",
       "      <th>510</th>\n",
       "      <th>511</th>\n",
       "      <th>target</th>\n",
       "    </tr>\n",
       "  </thead>\n",
       "  <tbody>\n",
       "    <tr>\n",
       "      <th>69</th>\n",
       "      <td>-0.032300</td>\n",
       "      <td>0.043320</td>\n",
       "      <td>-0.006428</td>\n",
       "      <td>-0.043180</td>\n",
       "      <td>0.014835</td>\n",
       "      <td>-0.014165</td>\n",
       "      <td>0.010700</td>\n",
       "      <td>-0.028815</td>\n",
       "      <td>-0.021448</td>\n",
       "      <td>0.015811</td>\n",
       "      <td>...</td>\n",
       "      <td>0.001917</td>\n",
       "      <td>0.011886</td>\n",
       "      <td>-0.052931</td>\n",
       "      <td>-0.047543</td>\n",
       "      <td>0.048936</td>\n",
       "      <td>-0.010441</td>\n",
       "      <td>-0.003664</td>\n",
       "      <td>0.040583</td>\n",
       "      <td>-0.033006</td>\n",
       "      <td>1</td>\n",
       "    </tr>\n",
       "    <tr>\n",
       "      <th>605</th>\n",
       "      <td>0.053987</td>\n",
       "      <td>0.044439</td>\n",
       "      <td>0.051720</td>\n",
       "      <td>0.022096</td>\n",
       "      <td>0.103793</td>\n",
       "      <td>0.001721</td>\n",
       "      <td>-0.056659</td>\n",
       "      <td>-0.041845</td>\n",
       "      <td>-0.004872</td>\n",
       "      <td>-0.094555</td>\n",
       "      <td>...</td>\n",
       "      <td>-0.046188</td>\n",
       "      <td>-0.033324</td>\n",
       "      <td>-0.038872</td>\n",
       "      <td>0.053364</td>\n",
       "      <td>-0.050251</td>\n",
       "      <td>0.004074</td>\n",
       "      <td>0.002286</td>\n",
       "      <td>0.065672</td>\n",
       "      <td>-0.012583</td>\n",
       "      <td>0</td>\n",
       "    </tr>\n",
       "    <tr>\n",
       "      <th>606</th>\n",
       "      <td>0.112884</td>\n",
       "      <td>-0.027598</td>\n",
       "      <td>-0.054691</td>\n",
       "      <td>0.026067</td>\n",
       "      <td>-0.025630</td>\n",
       "      <td>-0.024500</td>\n",
       "      <td>0.020429</td>\n",
       "      <td>0.079027</td>\n",
       "      <td>-0.067067</td>\n",
       "      <td>-0.020187</td>\n",
       "      <td>...</td>\n",
       "      <td>0.033560</td>\n",
       "      <td>0.012251</td>\n",
       "      <td>0.048048</td>\n",
       "      <td>-0.018794</td>\n",
       "      <td>0.026594</td>\n",
       "      <td>-0.024508</td>\n",
       "      <td>-0.035637</td>\n",
       "      <td>-0.081886</td>\n",
       "      <td>-0.073478</td>\n",
       "      <td>0</td>\n",
       "    </tr>\n",
       "  </tbody>\n",
       "</table>\n",
       "<p>3 rows × 513 columns</p>\n",
       "</div>"
      ],
      "text/plain": [
       "            0         1         2         3         4         5         6  \\\n",
       "69  -0.032300  0.043320 -0.006428 -0.043180  0.014835 -0.014165  0.010700   \n",
       "605  0.053987  0.044439  0.051720  0.022096  0.103793  0.001721 -0.056659   \n",
       "606  0.112884 -0.027598 -0.054691  0.026067 -0.025630 -0.024500  0.020429   \n",
       "\n",
       "            7         8         9  ...       503       504       505  \\\n",
       "69  -0.028815 -0.021448  0.015811  ...  0.001917  0.011886 -0.052931   \n",
       "605 -0.041845 -0.004872 -0.094555  ... -0.046188 -0.033324 -0.038872   \n",
       "606  0.079027 -0.067067 -0.020187  ...  0.033560  0.012251  0.048048   \n",
       "\n",
       "          506       507       508       509       510       511  target  \n",
       "69  -0.047543  0.048936 -0.010441 -0.003664  0.040583 -0.033006       1  \n",
       "605  0.053364 -0.050251  0.004074  0.002286  0.065672 -0.012583       0  \n",
       "606 -0.018794  0.026594 -0.024508 -0.035637 -0.081886 -0.073478       0  \n",
       "\n",
       "[3 rows x 513 columns]"
      ]
     },
     "execution_count": 3,
     "metadata": {},
     "output_type": "execute_result"
    }
   ],
   "source": [
    "df = pd.read_csv('celeb_embeddings.csv')\n",
    "df.sample(3)"
   ]
  },
  {
   "cell_type": "code",
   "execution_count": null,
   "metadata": {},
   "outputs": [],
   "source": []
  },
  {
   "cell_type": "code",
   "execution_count": 4,
   "metadata": {},
   "outputs": [],
   "source": [
    "# Separate the features and the target\n",
    "X = df.drop('target', axis=1)\n",
    "y = df['target']\n",
    "\n",
    "# Split the data into training and testing sets\n",
    "X_train, X_test, y_train, y_test = train_test_split(X, y, test_size=0.1, random_state=42)"
   ]
  },
  {
   "cell_type": "code",
   "execution_count": 5,
   "metadata": {},
   "outputs": [],
   "source": [
    "def gererate_model_metrics(y_true, y_pred):\n",
    "\n",
    "    accuracy = accuracy_score(y_true, y_pred)\n",
    "    precision = precision_score(y_true, y_pred, average='binary')  # Assuming binary classification\n",
    "    recall = recall_score(y_true, y_pred, average='binary')  # Assuming binary classification\n",
    "    f1 = f1_score(y_true, y_pred, average='binary')  # Assuming binary classification\n",
    "    cm = confusion_matrix(y_true, y_pred)\n",
    "\n",
    "    return accuracy, precision, recall, f1, cm"
   ]
  },
  {
   "cell_type": "code",
   "execution_count": 6,
   "metadata": {},
   "outputs": [],
   "source": [
    "# Train a SVM classifier and track its performance in MLflow\n",
    "mlflow.sklearn.autolog() \n",
    "\n",
    "with mlflow.start_run(run_name = 'svc_clf_default'):\n",
    "    clf = SVC(C=1.0, kernel='rbf', gamma='scale', random_state=42)\n",
    "    clf.fit(X_train, y_train)\n",
    "\n",
    "    y_pred = clf.predict(X_test)\n",
    "    accuracy, precision, recall, f1, cm = gererate_model_metrics(y_test, y_pred)\n",
    "\n",
    "    mlflow.log_metric(\"accuracy\", accuracy)\n",
    "    mlflow.log_metric(\"precision\", precision)\n",
    "    mlflow.log_metric(\"recall\", recall)\n",
    "    mlflow.log_metric(\"f1\", f1)"
   ]
  },
  {
   "cell_type": "code",
   "execution_count": 7,
   "metadata": {},
   "outputs": [],
   "source": [
    "# Train a DecisionTree classifier and track its performance in MLflow\n",
    "mlflow.sklearn.autolog() \n",
    "\n",
    "with mlflow.start_run(run_name = 'dtc_clf_default'):\n",
    "    clf = DecisionTreeClassifier(criterion='gini', splitter='best', max_depth=None)\n",
    "    clf.fit(X_train, y_train)\n",
    "\n",
    "    y_pred = clf.predict(X_test)\n",
    "    accuracy, precision, recall, f1, cm = gererate_model_metrics(y_test, y_pred)\n",
    "\n",
    "    mlflow.log_metric(\"accuracy\", accuracy)\n",
    "    mlflow.log_metric(\"precision\", precision)\n",
    "    mlflow.log_metric(\"recall\", recall)\n",
    "    mlflow.log_metric(\"f1\", f1)"
   ]
  },
  {
   "cell_type": "code",
   "execution_count": 8,
   "metadata": {},
   "outputs": [],
   "source": [
    "# Train a RandomForest classifier and track its performance in MLflow\n",
    "mlflow.sklearn.autolog() \n",
    "\n",
    "with mlflow.start_run(run_name = 'rf_clf_default'):\n",
    "    clf = RandomForestClassifier(n_estimators=100, criterion='gini', max_depth=None)\n",
    "    clf.fit(X_train, y_train)\n",
    "\n",
    "    y_pred = clf.predict(X_test)\n",
    "    accuracy, precision, recall, f1, cm = gererate_model_metrics(y_test, y_pred)\n",
    "\n",
    "    mlflow.log_metric(\"accuracy\", accuracy)\n",
    "    mlflow.log_metric(\"precision\", precision)\n",
    "    mlflow.log_metric(\"recall\", recall)\n",
    "    mlflow.log_metric(\"f1\", f1)"
   ]
  },
  {
   "cell_type": "code",
   "execution_count": 9,
   "metadata": {},
   "outputs": [],
   "source": [
    "# Train a MultiLayer Perceptron classifier and track its performance in MLflow\n",
    "mlflow.sklearn.autolog() \n",
    "\n",
    "with mlflow.start_run(run_name = 'mlp_clf_default'):\n",
    "    clf = MLPClassifier(hidden_layer_sizes=(100,), activation='relu', solver='adam')\n",
    "    clf.fit(X_train, y_train)\n",
    "\n",
    "    y_pred = clf.predict(X_test)\n",
    "    accuracy, precision, recall, f1, cm = gererate_model_metrics(y_test, y_pred)\n",
    "\n",
    "    mlflow.log_metric(\"accuracy\", accuracy)\n",
    "    mlflow.log_metric(\"precision\", precision)\n",
    "    mlflow.log_metric(\"recall\", recall)\n",
    "    mlflow.log_metric(\"f1\", f1)"
   ]
  },
  {
   "cell_type": "code",
   "execution_count": 10,
   "metadata": {},
   "outputs": [],
   "source": [
    "# Train an AdaBoost classifier and track its performance in MLflow\n",
    "mlflow.sklearn.autolog() \n",
    "\n",
    "with mlflow.start_run(run_name = 'ada_clf_default'):\n",
    "    clf = AdaBoostClassifier(estimator=DecisionTreeClassifier(max_depth=1), n_estimators=50, learning_rate=1.0)\n",
    "    clf.fit(X_train, y_train)\n",
    "\n",
    "    y_pred = clf.predict(X_test)\n",
    "    accuracy, precision, recall, f1, cm = gererate_model_metrics(y_test, y_pred)\n",
    "\n",
    "    mlflow.log_metric(\"accuracy\", accuracy)\n",
    "    mlflow.log_metric(\"precision\", precision)\n",
    "    mlflow.log_metric(\"recall\", recall)\n",
    "    mlflow.log_metric(\"f1\", f1)"
   ]
  },
  {
   "cell_type": "code",
   "execution_count": 11,
   "metadata": {},
   "outputs": [
    {
     "name": "stderr",
     "output_type": "stream",
     "text": [
      "t=2023-11-14T23:57:09+0100 lvl=warn msg=\"ngrok config file found at legacy location, move to XDG location\" xdg_path=C:\\\\Users\\\\jneed\\\\AppData\\\\Local/ngrok/ngrok.yml legacy_path=C:\\\\Users\\\\jneed\\\\.ngrok2\\\\ngrok.yml\n"
     ]
    },
    {
     "name": "stdout",
     "output_type": "stream",
     "text": [
      "MLflow Tracking UI: NgrokTunnel: \"https://d385-2a01-cb08-995a-8200-2185-f7ae-8e48-914a.ngrok.io\" -> \"http://localhost:5000\"\n"
     ]
    }
   ],
   "source": [
    "# #pip install pyngrok     \n",
    "\n",
    "from pyngrok import ngrok\n",
    "# # Terminate open tunnels if exist\n",
    "ngrok.kill()\n",
    "\n",
    "# # Open an HTTPs tunnel on port 5000 for http://localhost:5000\n",
    "ngrok_tunnel = ngrok.connect(addr=\"5000\", proto=\"http\", bind_tls=True)\n",
    "print(\"MLflow Tracking UI:\", ngrok_tunnel)"
   ]
  },
  {
   "cell_type": "code",
   "execution_count": 12,
   "metadata": {},
   "outputs": [],
   "source": [
    "# !mlflow ui"
   ]
  }
 ],
 "metadata": {
  "kernelspec": {
   "display_name": ".venv",
   "language": "python",
   "name": "python3"
  },
  "language_info": {
   "codemirror_mode": {
    "name": "ipython",
    "version": 3
   },
   "file_extension": ".py",
   "mimetype": "text/x-python",
   "name": "python",
   "nbconvert_exporter": "python",
   "pygments_lexer": "ipython3",
   "version": "3.11.4"
  }
 },
 "nbformat": 4,
 "nbformat_minor": 2
}
