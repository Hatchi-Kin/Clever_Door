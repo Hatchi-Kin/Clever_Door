{
 "cells": [
  {
   "cell_type": "code",
   "execution_count": 2,
   "metadata": {},
   "outputs": [
    {
     "name": "stdout",
     "output_type": "stream",
     "text": [
      "WARNING:tensorflow:From c:\\Users\\jneed\\Documents\\projet2\\clever_door_3\\.venv\\Lib\\site-packages\\keras\\src\\losses.py:2976: The name tf.losses.sparse_softmax_cross_entropy is deprecated. Please use tf.compat.v1.losses.sparse_softmax_cross_entropy instead.\n",
      "\n"
     ]
    }
   ],
   "source": [
    "import numpy as np\n",
    "import pandas as pd\n",
    "from keras_facenet import FaceNet\n",
    "from keras.preprocessing.image import load_img, img_to_array\n",
    "from scipy.spatial.distance import cosine"
   ]
  },
  {
   "cell_type": "code",
   "execution_count": 3,
   "metadata": {},
   "outputs": [
    {
     "name": "stdout",
     "output_type": "stream",
     "text": [
      "WARNING:tensorflow:From c:\\Users\\jneed\\Documents\\projet2\\clever_door_3\\.venv\\Lib\\site-packages\\keras\\src\\backend.py:1398: The name tf.executing_eagerly_outside_functions is deprecated. Please use tf.compat.v1.executing_eagerly_outside_functions instead.\n",
      "\n",
      "WARNING:tensorflow:From c:\\Users\\jneed\\Documents\\projet2\\clever_door_3\\.venv\\Lib\\site-packages\\keras\\src\\layers\\normalization\\batch_normalization.py:979: The name tf.nn.fused_batch_norm is deprecated. Please use tf.compat.v1.nn.fused_batch_norm instead.\n",
      "\n"
     ]
    }
   ],
   "source": [
    "df = pd.read_csv(r'C:\\Users\\jneed\\Documents\\projet2\\clever_door_3\\mega_faces_dataset.csv')\n",
    "embedder = FaceNet()"
   ]
  },
  {
   "cell_type": "code",
   "execution_count": 4,
   "metadata": {},
   "outputs": [],
   "source": [
    "# Define a function to extract embeddings from an image\n",
    "def extract_embedding(image_path, model):\n",
    "    # Load and preprocess the image\n",
    "    image = load_img(image_path, target_size=(160, 160), color_mode='rgb')\n",
    "    image = img_to_array(image)\n",
    "    # Extract the embedding using the model\n",
    "    embedding = model.embeddings(np.array([image]))[0]\n",
    "    # Convert the embedding to a DataFrame\n",
    "    df = pd.DataFrame([embedding])\n",
    "\n",
    "    return df"
   ]
  },
  {
   "cell_type": "code",
   "execution_count": 5,
   "metadata": {},
   "outputs": [
    {
     "name": "stdout",
     "output_type": "stream",
     "text": [
      "1/1 [==============================] - 2s 2s/step\n"
     ]
    }
   ],
   "source": [
    "new_image_path = r\"C:\\Users\\jneed\\Documents\\projet2\\clever_door_3\\01_buscemi.jpg\"\n",
    "df_new = extract_embedding(new_image_path, embedder)\n",
    "df_new = df_new.drop(columns=[511])"
   ]
  },
  {
   "cell_type": "code",
   "execution_count": 6,
   "metadata": {},
   "outputs": [],
   "source": [
    "# Ensure the embeddings are in the same format and order\n",
    "df_new.columns = df.columns[3:-1]"
   ]
  },
  {
   "cell_type": "code",
   "execution_count": 7,
   "metadata": {},
   "outputs": [],
   "source": [
    "# Calculate the cosine similarity\n",
    "df['similarity'] = df.iloc[:, 3:-1].apply(lambda row: cosine(df_new.iloc[0], row), axis=1)"
   ]
  },
  {
   "cell_type": "code",
   "execution_count": 8,
   "metadata": {},
   "outputs": [],
   "source": [
    "# Store 'filename', 'filepath', and 'label' in a new DataFrame and add 'similarity'\n",
    "df_result = df[df.columns[:3]].copy()\n",
    "df_result['similarity'] = df['similarity']"
   ]
  },
  {
   "cell_type": "code",
   "execution_count": 9,
   "metadata": {},
   "outputs": [],
   "source": [
    "# Sort by similarity and get the top 5\n",
    "top_5 = df_result.nsmallest(5, 'similarity')"
   ]
  },
  {
   "cell_type": "code",
   "execution_count": 20,
   "metadata": {},
   "outputs": [
    {
     "data": {
      "text/html": [
       "<div>\n",
       "<style scoped>\n",
       "    .dataframe tbody tr th:only-of-type {\n",
       "        vertical-align: middle;\n",
       "    }\n",
       "\n",
       "    .dataframe tbody tr th {\n",
       "        vertical-align: top;\n",
       "    }\n",
       "\n",
       "    .dataframe thead th {\n",
       "        text-align: right;\n",
       "    }\n",
       "</style>\n",
       "<table border=\"1\" class=\"dataframe\">\n",
       "  <thead>\n",
       "    <tr style=\"text-align: right;\">\n",
       "      <th></th>\n",
       "      <th>filename</th>\n",
       "      <th>filepath</th>\n",
       "      <th>label</th>\n",
       "      <th>similarity</th>\n",
       "    </tr>\n",
       "  </thead>\n",
       "  <tbody>\n",
       "    <tr>\n",
       "      <th>1093</th>\n",
       "      <td>not_allowed_99.jpg</td>\n",
       "      <td>Faces_Dataset_processed\\not_allowed\\not_allowe...</td>\n",
       "      <td>not_allowed</td>\n",
       "      <td>0.000000</td>\n",
       "    </tr>\n",
       "    <tr>\n",
       "      <th>98</th>\n",
       "      <td>allowed_18.jpg</td>\n",
       "      <td>Faces_Dataset_processed\\allowed\\allowed_18.jpg</td>\n",
       "      <td>allowed</td>\n",
       "      <td>0.444915</td>\n",
       "    </tr>\n",
       "    <tr>\n",
       "      <th>274</th>\n",
       "      <td>allowed_34.jpg</td>\n",
       "      <td>Faces_Dataset_processed\\allowed\\allowed_34.jpg</td>\n",
       "      <td>allowed</td>\n",
       "      <td>0.481775</td>\n",
       "    </tr>\n",
       "    <tr>\n",
       "      <th>5</th>\n",
       "      <td>allowed_05.jpg</td>\n",
       "      <td>Faces_Dataset_processed\\allowed\\allowed_05.jpg</td>\n",
       "      <td>allowed</td>\n",
       "      <td>0.483570</td>\n",
       "    </tr>\n",
       "    <tr>\n",
       "      <th>120</th>\n",
       "      <td>allowed_20.jpg</td>\n",
       "      <td>Faces_Dataset_processed\\allowed\\allowed_20.jpg</td>\n",
       "      <td>allowed</td>\n",
       "      <td>0.487700</td>\n",
       "    </tr>\n",
       "  </tbody>\n",
       "</table>\n",
       "</div>"
      ],
      "text/plain": [
       "                filename                                           filepath  \\\n",
       "1093  not_allowed_99.jpg  Faces_Dataset_processed\\not_allowed\\not_allowe...   \n",
       "98        allowed_18.jpg     Faces_Dataset_processed\\allowed\\allowed_18.jpg   \n",
       "274       allowed_34.jpg     Faces_Dataset_processed\\allowed\\allowed_34.jpg   \n",
       "5         allowed_05.jpg     Faces_Dataset_processed\\allowed\\allowed_05.jpg   \n",
       "120       allowed_20.jpg     Faces_Dataset_processed\\allowed\\allowed_20.jpg   \n",
       "\n",
       "            label  similarity  \n",
       "1093  not_allowed    0.000000  \n",
       "98        allowed    0.444915  \n",
       "274       allowed    0.481775  \n",
       "5         allowed    0.483570  \n",
       "120       allowed    0.487700  "
      ]
     },
     "execution_count": 20,
     "metadata": {},
     "output_type": "execute_result"
    }
   ],
   "source": [
    "top_5"
   ]
  },
  {
   "cell_type": "code",
   "execution_count": 11,
   "metadata": {},
   "outputs": [
    {
     "data": {
      "text/plain": [
       "'Faces_Dataset_processed\\\\not_allowed\\\\not_allowed_99.jpg'"
      ]
     },
     "execution_count": 11,
     "metadata": {},
     "output_type": "execute_result"
    }
   ],
   "source": [
    "top_5.iloc[0, 1]"
   ]
  },
  {
   "cell_type": "code",
   "execution_count": 19,
   "metadata": {},
   "outputs": [
    {
     "data": {
      "image/jpeg": "[encoded data removed]",
      "text/plain": [
       "<IPython.core.display.Image object>"
      ]
     },
     "execution_count": 19,
     "metadata": {},
     "output_type": "execute_result"
    }
   ],
   "source": [
    "from IPython.display import Image\n",
    "\n",
    "Image(top_5.iloc[0, 1])"
   ]
  },
  {
   "cell_type": "code",
   "execution_count": null,
   "metadata": {},
   "outputs": [],
   "source": [
    "Image(top_5.iloc[2, 1])"
   ]
  }
 ],
 "metadata": {
  "kernelspec": {
   "display_name": ".venv",
   "language": "python",
   "name": "python3"
  },
  "language_info": {
   "codemirror_mode": {
    "name": "ipython",
    "version": 3
   },
   "file_extension": ".py",
   "mimetype": "text/x-python",
   "name": "python",
   "nbconvert_exporter": "python",
   "pygments_lexer": "ipython3",
   "version": "3.11.4"
  }
 },
 "nbformat": 4,
 "nbformat_minor": 2
}
